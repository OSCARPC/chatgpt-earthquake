{
  "nbformat": 4,
  "nbformat_minor": 0,
  "metadata": {
    "colab": {
      "provenance": []
    },
    "kernelspec": {
      "name": "python3",
      "display_name": "Python 3"
    },
    "language_info": {
      "name": "python"
    }
  },
  "cells": [
    {
      "cell_type": "code",
      "execution_count": null,
      "metadata": {
        "id": "BdMhKNT_40D9"
      },
      "outputs": [],
      "source": [
        "!pip install googlemaps\n",
        "!pip install gmplot\n",
        "\n",
        "import googlemaps\n",
        "from datetime import datetime\n",
        "\n",
        "# Configurar tu API key de Google Maps\n",
        "api_key = ''  # Reemplaza 'YOUR_GOOGLE_MAPS_API_KEY' con tu clave de API de Google Maps\n",
        "gmaps = googlemaps.Client(key=api_key)\n",
        "\n",
        "# Definir las coordenadas del punto central\n",
        "latitude = -3.96\n",
        "longitude = -81.24\n",
        "central_point = (latitude, longitude)\n",
        "\n",
        "# Buscar lugares dentro de un radio de 5 km\n",
        "places_result = gmaps.places_nearby(location=central_point, radius=28000)\n",
        "\n",
        "# Filtrar los resultados y obtener detalles de los lugares\n",
        "places_within_radius = []\n",
        "for place in places_result['results']:\n",
        "    place_details = gmaps.place(place_id=place['place_id'])\n",
        "    places_within_radius.append({\n",
        "        \"name\": place_details['result']['name'],\n",
        "        \"coords\": (\n",
        "            place_details['result']['geometry']['location']['lat'],\n",
        "            place_details['result']['geometry']['location']['lng']\n",
        "        ),\n",
        "        \"address\": place_details['result'].get('vicinity', 'No address available')\n",
        "    })\n",
        "\n",
        "# Mostrar los lugares encontrados\n",
        "for place in places_within_radius:\n",
        "    print(f\"Name: {place['name']}, Coordinates: {place['coords']}, Address: {place['address']}\")\n",
        "\n",
        "# Para agregar estos lugares al mapa usando gmplot\n",
        "from gmplot import gmplot\n",
        "\n",
        "# Crear el objeto gmap\n",
        "gmap = gmplot.GoogleMapPlotter(latitude, longitude, 13, apikey=api_key)\n",
        "\n",
        "# Añadir un marcador para el punto central\n",
        "gmap.marker(latitude, longitude, title=\"Punto Central\")\n",
        "\n",
        "# Dibujar un círculo de radio 5 km alrededor del punto central\n",
        "gmap.circle(latitude, longitude, 28000, color='blue', edge_width=2, face_alpha=0.1)\n",
        "\n",
        "# Añadir marcadores para los lugares dentro del radio\n",
        "for place in places_within_radius:\n",
        "    gmap.marker(place[\"coords\"][0], place[\"coords\"][1], title=place[\"name\"], color='red')\n",
        "\n",
        "# Guardar el mapa en un archivo HTML\n",
        "gmap.draw(\"map.html\")\n",
        "\n",
        "# Mostrar el mapa en el notebook\n",
        "from IPython.display import IFrame\n",
        "IFrame('map.html', width=800, height=600)"
      ]
    }
  ]
}
